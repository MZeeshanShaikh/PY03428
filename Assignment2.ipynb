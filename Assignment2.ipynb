{
 "cells": [
  {
   "cell_type": "code",
   "execution_count": 3,
   "metadata": {},
   "outputs": [],
   "source": [
    "#Assignment 2\n"
   ]
  },
  {
   "cell_type": "code",
   "execution_count": 1,
   "metadata": {},
   "outputs": [
    {
     "name": "stdout",
     "output_type": "stream",
     "text": [
      "Enter Sub 1 Marks :-50\n",
      "Enter Sub 2 Marks :-50\n",
      "Enter Sub 3 Marks :-30\n",
      "Enter Sub 4 Marks:-20\n",
      "Enter Sub 5 Marks:-70\n",
      "Enter Total Number :-500\n",
      "D\n"
     ]
    }
   ],
   "source": [
    "# Marksheet\n",
    "Sub1=(int(input(\"Enter Sub 1 Marks :-\")))\n",
    "Sub2=(int(input(\"Enter Sub 2 Marks :-\")))\n",
    "Sub3=(int(input(\"Enter Sub 3 Marks :-\")))\n",
    "Sub4=(int(input(\"Enter Sub 4 Marks:-\")))\n",
    "Sub5=(int(input(\"Enter Sub 5 Marks:-\")))\n",
    "\n",
    "total=(int(input(\"Enter Total Number :-\")))\n",
    "\n",
    "SubSum=int(Sub1+Sub2+Sub3+Sub4+Sub5)\n",
    "\n",
    "per=float(SubSum/total)*100\n",
    "\n",
    "if per >= 80 or per == 100 :\n",
    "    print('A+')\n",
    "elif per >= 70 and per < 80 :\n",
    "    print('A')\n",
    "elif per >= 60 and per < 70 :\n",
    "    print('B')\n",
    "elif per >=50 and per < 60 :\n",
    "    print('C')\n",
    "elif per >=40 and per < 50 :\n",
    "    print('D')\n",
    "elif per >= 33 and per < 40 :\n",
    "    print('E')\n",
    "elif per < 32 or per >= 0 :\n",
    "    print('F')"
   ]
  },
  {
   "cell_type": "code",
   "execution_count": 2,
   "metadata": {},
   "outputs": [
    {
     "name": "stdout",
     "output_type": "stream",
     "text": [
      "90\n"
     ]
    }
   ],
   "source": [
    "#Sum Of List\n",
    "MyList=[20,10,5,11,30,14]\n",
    "Add=sum(MyList)\n",
    "print(Add)"
   ]
  },
  {
   "cell_type": "code",
   "execution_count": 4,
   "metadata": {},
   "outputs": [
    {
     "name": "stdout",
     "output_type": "stream",
     "text": [
      "The Elements of Lists are[1, 2, 5, 10, 100, 3, 9]\n",
      "The Maximum Number In the list is =100\n"
     ]
    }
   ],
   "source": [
    "#Max Value of List\n",
    "NewList=[1,2,5,10,100,3,9]\n",
    "print(\"The Elements of Lists are\" + str(NewList) )\n",
    "\n",
    "maxValue = max(NewList)\n",
    "print(\"The Maximum Number In the list is =\"+ str(maxValue))\n"
   ]
  },
  {
   "cell_type": "code",
   "execution_count": 5,
   "metadata": {},
   "outputs": [
    {
     "name": "stdout",
     "output_type": "stream",
     "text": [
      " Your List is\t5\tElement long .\n"
     ]
    }
   ],
   "source": [
    "#Len Of List\n",
    "MyList=[2,'cat',3,5,9]\n",
    "print(' Your List is\\t' + str(len(MyList)) + '\\tElement long .')\n"
   ]
  },
  {
   "cell_type": "code",
   "execution_count": 6,
   "metadata": {},
   "outputs": [
    {
     "name": "stdout",
     "output_type": "stream",
     "text": [
      "Please Enter the Number : -50\n",
      "Number is Evene\n"
     ]
    }
   ],
   "source": [
    "# Even or Odd\n",
    "Numb=int(input(\"Please Enter the Number : -\"))\n",
    "\n",
    "if Numb % 2 == 0 :\n",
    "   print(\"Number is Evene\")\n",
    "else: \n",
    "   print(\"Number is Odd\")\n"
   ]
  },
  {
   "cell_type": "code",
   "execution_count": 7,
   "metadata": {},
   "outputs": [
    {
     "name": "stdout",
     "output_type": "stream",
     "text": [
      "1\n",
      "1\n",
      "2\n",
      "3\n"
     ]
    }
   ],
   "source": [
    "a=[1,1,2,3,5,8,13,21,34,55,89]\n",
    "x=len(a)\n",
    "for i in range(x):\n",
    "    if a[i]<5:\n",
    "        print(a[i])\n"
   ]
  },
  {
   "cell_type": "code",
   "execution_count": null,
   "metadata": {},
   "outputs": [],
   "source": []
  }
 ],
 "metadata": {
  "kernelspec": {
   "display_name": "Python 3",
   "language": "python",
   "name": "python3"
  },
  "language_info": {
   "codemirror_mode": {
    "name": "ipython",
    "version": 3
   },
   "file_extension": ".py",
   "mimetype": "text/x-python",
   "name": "python",
   "nbconvert_exporter": "python",
   "pygments_lexer": "ipython3",
   "version": "3.7.4"
  }
 },
 "nbformat": 4,
 "nbformat_minor": 2
}
