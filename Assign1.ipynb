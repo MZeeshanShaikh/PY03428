{
 "cells": [
  {
   "cell_type": "code",
   "execution_count": 3,
   "metadata": {},
   "outputs": [
    {
     "name": "stdout",
     "output_type": "stream",
     "text": [
      "Enter First Name : - ali\n",
      "Enter Last Name : - ahmed\n",
      "d e m h a i l a\n"
     ]
    }
   ],
   "source": [
    "#Asking Input From User\n",
    "first_Name=input('Enter First Name : - ')\n",
    "last_Name=input('Enter Last Name : - ')\n",
    "#Converting Strings Into Lists\n",
    "first_Name=list(first_Name)\n",
    "last_Name=list(last_Name)\n",
    "#Merging Lists\n",
    "first_Name.extend(last_Name)\n",
    "#Reversing\n",
    "first_Name.reverse()\n",
    "#Joining Lists Element\n",
    "first_Name = ' '.join(first_Name)\n",
    "\n",
    "#Printing\n",
    "print(first_Name)\n"
   ]
  },
  {
   "cell_type": "code",
   "execution_count": 1,
   "metadata": {},
   "outputs": [
    {
     "name": "stdout",
     "output_type": "stream",
     "text": [
      "Current Date & Time Is :  2019-11-03 16:22:52.150445\n"
     ]
    }
   ],
   "source": [
    "import datetime\n",
    "now = datetime.datetime.today()\n",
    "print('Current Date & Time Is : ',now)\n"
   ]
  },
  {
   "cell_type": "code",
   "execution_count": 2,
   "metadata": {},
   "outputs": [
    {
     "name": "stdout",
     "output_type": "stream",
     "text": [
      "The Version of python is -   3.7.4\n"
     ]
    }
   ],
   "source": [
    "import platform\n",
    "print('The Version of python is -  ',platform.python_version())\n"
   ]
  },
  {
   "cell_type": "code",
   "execution_count": 4,
   "metadata": {},
   "outputs": [
    {
     "name": "stdout",
     "output_type": "stream",
     "text": [
      "Twinkle, twinkle, little star,\n",
      "\tHow I wonder what you are! \n",
      "\t\tUp above the world so high, \n",
      "\t\tLike a diamond in the sky.\n",
      " Twinkle, twinkle, little star,\n",
      "\t How I wonder what you are\n"
     ]
    }
   ],
   "source": [
    "print(\"Twinkle, twinkle, little star,\\n\\tHow I wonder what you are! \\n\\t\\tUp above the world so high, \\n\\t\\tLike a diamond in the sky.\\n Twinkle, twinkle, little star,\\n\\t How I wonder what you are\")\n"
   ]
  },
  {
   "cell_type": "code",
   "execution_count": 6,
   "metadata": {},
   "outputs": [
    {
     "name": "stdout",
     "output_type": "stream",
     "text": [
      " Please Enter the radius of a circle: 2\n",
      " Area Of a Circle =  12.56\n"
     ]
    }
   ],
   "source": [
    "pi = 3.14\n",
    "radius = float(input(' Please Enter the radius of a circle: '))\n",
    "area = pi  * (radius**2)\n",
    "\n",
    "print(\" Area Of a Circle = \" ,area)\n",
    "\n",
    "\n"
   ]
  },
  {
   "cell_type": "code",
   "execution_count": 1,
   "metadata": {},
   "outputs": [
    {
     "name": "stdout",
     "output_type": "stream",
     "text": [
      "Please Enter First Number : - 2\n",
      "Please Enter Second Number : - 2\n",
      "4\n"
     ]
    }
   ],
   "source": [
    "x = int(input(\"Please Enter First Number : - \"))\n",
    "y = int(input(\"Please Enter Second Number : - \"))\n",
    "\n",
    "z=(x+y)\n",
    "print(z)\n"
   ]
  },
  {
   "cell_type": "code",
   "execution_count": 2,
   "metadata": {},
   "outputs": [
    {
     "name": "stdout",
     "output_type": "stream",
     "text": [
      "Enter your percentage : - 22\n",
      "F\n"
     ]
    }
   ],
   "source": [
    "# used float insted of int because percentage can b i points\n",
    "per = float(input('Enter your percentage : - '))\n",
    "if per >= 80 or per == 100 :\n",
    "    print('A+')\n",
    "elif per >= 70 and per < 80 :\n",
    "    print('A')\n",
    "elif per >= 60 and per < 70 :\n",
    "    print('B')\n",
    "elif per >=50 and per < 60 :\n",
    "    print('C')\n",
    "elif per >=40 and per < 50 :\n",
    "    print('D')\n",
    "elif per >= 33 and per < 40 :\n",
    "    print('E')\n",
    "elif per < 32 or per >= 0 :\n",
    "    print('F')\n",
    "    "
   ]
  },
  {
   "cell_type": "code",
   "execution_count": null,
   "metadata": {},
   "outputs": [],
   "source": []
  }
 ],
 "metadata": {
  "kernelspec": {
   "display_name": "Python 3",
   "language": "python",
   "name": "python3"
  },
  "language_info": {
   "codemirror_mode": {
    "name": "ipython",
    "version": 3
   },
   "file_extension": ".py",
   "mimetype": "text/x-python",
   "name": "python",
   "nbconvert_exporter": "python",
   "pygments_lexer": "ipython3",
   "version": "3.7.4"
  }
 },
 "nbformat": 4,
 "nbformat_minor": 2
}
