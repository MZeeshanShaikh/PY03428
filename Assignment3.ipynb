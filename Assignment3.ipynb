{
 "cells": [
  {
   "cell_type": "code",
   "execution_count": 1,
   "metadata": {},
   "outputs": [
    {
     "name": "stdout",
     "output_type": "stream",
     "text": [
      "{'a': 1, 'b': 2}\n",
      "{'a': 1, 'b': 2, 'c': ' ', 'd': 4}\n"
     ]
    }
   ],
   "source": [
    "'''Add To Dicitonary'''\n",
    "d = {'a': 1, 'b': 2}\n",
    "print(d)\n",
    "d['c'] = \" \"  # new key, so add\n",
    "d['d'] = 4\n",
    "print(d)\n"
   ]
  },
  {
   "cell_type": "code",
   "execution_count": 2,
   "metadata": {},
   "outputs": [
    {
     "name": "stdout",
     "output_type": "stream",
     "text": [
      "Key is not in the list\n"
     ]
    }
   ],
   "source": [
    "d={'a': 1, 'b': 2}\n",
    "if 'c'  in d.keys():\n",
    "    print('Key is already exsist')\n",
    "else :\n",
    "     print('Key is not in the list')\n"
   ]
  },
  {
   "cell_type": "code",
   "execution_count": 3,
   "metadata": {},
   "outputs": [
    {
     "name": "stdout",
     "output_type": "stream",
     "text": [
      "Value is already exsist\n"
     ]
    }
   ],
   "source": [
    "'''Cheking Value Of Key'''\n",
    "d={'a': 1, 'b': 2}\n",
    "if 1  in d.values():\n",
    "    print('Value is already exsist')\n",
    "else :\n",
    "     print('Value is not in the list')\n"
   ]
  },
  {
   "cell_type": "code",
   "execution_count": 4,
   "metadata": {},
   "outputs": [
    {
     "name": "stdout",
     "output_type": "stream",
     "text": [
      "Slect Operartion \n",
      "|-A for Addition\n",
      "|-S for Subtraction\n",
      "|-M For multipilication\n",
      "|-D for Division\n",
      "|-P for Power\n",
      " : -m\n",
      "For Multiplication Enter Digit\n",
      "Enter the Value 1st value :- 2\n",
      "Enter the Value 2nd value :- 2\n",
      "4\n"
     ]
    }
   ],
   "source": [
    "#Calculator\n",
    "Chose=input(\"Select Operartion \\n|-A for Addition\\n|-S for Subtraction\\n|-M For multipilication\\n|-D for Division\\n|-P for Power\\n : -\")\n",
    "if Chose=='A' or Chose=='a' :\n",
    "#Addtion\n",
    " print('For Addition Enter Digit\\n')\n",
    " x = int(input('Enter the Value 1st value :- '))\n",
    " y = int(input('Enter the Value 2nd value :- '))\n",
    " z = x + y\n",
    " print(z)\n",
    "elif Chose=='S' or Chose=='s' :\n",
    "#Subtraction\n",
    " print('For Subtraction Enter Digit')\n",
    " x = int(input('Enter the Value 1st value :- '))\n",
    " y = int(input('Enter the Value 2nd value :- '))\n",
    " z=x-y\n",
    " print(z)\n",
    "elif Chose=='M' or Chose=='m' :\n",
    "#Multiplication\n",
    " print('For Multiplication Enter Digit')\n",
    " x = int(input('Enter the Value 1st value :- '))\n",
    " y = int(input('Enter the Value 2nd value :- '))\n",
    " z=x*y\n",
    " print(z)\n",
    "elif Chose=='D' or Chose=='d' :\n",
    "#Division\n",
    " print('For Division Enter Digit')\n",
    " x = int(input('Enter the Value 1st value :- '))\n",
    " y = int(input('Enter the Value 2nd value :- '))\n",
    " z=x*y\n",
    " print(z)\n",
    "elif Chose=='P' or Chose=='p' :\n",
    "#Power\n",
    " print('For Power Enter Digit')\n",
    " x = int(input('Enter the Value 1st value :- '))\n",
    " y = int(input('Enter the Value 2nd value :- '))\n",
    " z=x**y\n",
    " print(z)\n",
    "else:\n",
    "    print('You chose Wrong Option')\n",
    "    \n"
   ]
  },
  {
   "cell_type": "code",
   "execution_count": 1,
   "metadata": {},
   "outputs": [
    {
     "name": "stdout",
     "output_type": "stream",
     "text": [
      "The List :['a', 1, 'x', 7, 'o', 4]\n"
     ]
    },
    {
     "ename": "AttributeError",
     "evalue": "'int' object has no attribute 'isnumeric'",
     "output_type": "error",
     "traceback": [
      "\u001b[1;31m---------------------------------------------------------------------------\u001b[0m",
      "\u001b[1;31mAttributeError\u001b[0m                            Traceback (most recent call last)",
      "\u001b[1;32m<ipython-input-1-f6a99f5368eb>\u001b[0m in \u001b[0;36m<module>\u001b[1;34m\u001b[0m\n\u001b[0;32m      2\u001b[0m \u001b[0mprint\u001b[0m\u001b[1;33m(\u001b[0m\u001b[1;34m\"The List :\"\u001b[0m \u001b[1;33m+\u001b[0m \u001b[0mstr\u001b[0m\u001b[1;33m(\u001b[0m\u001b[0mx\u001b[0m\u001b[1;33m)\u001b[0m\u001b[1;33m)\u001b[0m\u001b[1;33m\u001b[0m\u001b[1;33m\u001b[0m\u001b[0m\n\u001b[0;32m      3\u001b[0m \u001b[1;32mfor\u001b[0m \u001b[0mi\u001b[0m \u001b[1;32min\u001b[0m \u001b[0mx\u001b[0m \u001b[1;33m:\u001b[0m\u001b[1;33m\u001b[0m\u001b[1;33m\u001b[0m\u001b[0m\n\u001b[1;32m----> 4\u001b[1;33m     \u001b[1;32mif\u001b[0m\u001b[1;33m(\u001b[0m\u001b[0mi\u001b[0m\u001b[1;33m.\u001b[0m\u001b[0misnumeric\u001b[0m\u001b[1;33m(\u001b[0m\u001b[1;33m)\u001b[0m\u001b[1;33m)\u001b[0m \u001b[1;33m==\u001b[0m \u001b[1;32mTrue\u001b[0m \u001b[1;33m:\u001b[0m\u001b[1;33m\u001b[0m\u001b[1;33m\u001b[0m\u001b[0m\n\u001b[0m\u001b[0;32m      5\u001b[0m         \u001b[0mprint\u001b[0m\u001b[1;33m(\u001b[0m\u001b[0mi\u001b[0m\u001b[1;33m)\u001b[0m\u001b[1;33m\u001b[0m\u001b[1;33m\u001b[0m\u001b[0m\n",
      "\u001b[1;31mAttributeError\u001b[0m: 'int' object has no attribute 'isnumeric'"
     ]
    }
   ],
   "source": [
    "'''\n",
    "This Q was not complete i uploaded because time is ovr as on friday at 23:45\n",
    "'''\n",
    "x=['a',1,'x',7,'o',4]\n",
    "print(\"The List :\" + str(x))\n",
    "for i in x :\n",
    "    if(i.isnumeric()) == True :\n",
    "        print(i)\n"
   ]
  },
  {
   "cell_type": "code",
   "execution_count": null,
   "metadata": {},
   "outputs": [],
   "source": []
  }
 ],
 "metadata": {
  "kernelspec": {
   "display_name": "Python 3",
   "language": "python",
   "name": "python3"
  },
  "language_info": {
   "codemirror_mode": {
    "name": "ipython",
    "version": 3
   },
   "file_extension": ".py",
   "mimetype": "text/x-python",
   "name": "python",
   "nbconvert_exporter": "python",
   "pygments_lexer": "ipython3",
   "version": "3.7.4"
  }
 },
 "nbformat": 4,
 "nbformat_minor": 2
}
