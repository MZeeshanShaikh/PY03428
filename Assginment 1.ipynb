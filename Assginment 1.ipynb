{
 "cells": [
  {
   "cell_type": "code",
   "execution_count": 1,
   "metadata": {},
   "outputs": [
    {
     "name": "stdout",
     "output_type": "stream",
     "text": [
      "Enter First Name : - Ali\n",
      "Enter Last Name : - Ahmed\n",
      "d e m h A i l A\n"
     ]
    }
   ],
   "source": [
    "#Asking Input From User\n",
    "first_Name=input('Enter First Name : - ')\n",
    "last_Name=input('Enter Last Name : - ')\n",
    "#Converting Strings Into Lists\n",
    "first_Name=list(first_Name)\n",
    "last_Name=list(last_Name)\n",
    "#Merging Lists\n",
    "first_Name.extend(last_Name)\n",
    "#Reversing\n",
    "first_Name.reverse()\n",
    "#Joining Lists Element\n",
    "first_Name = ' '.join(first_Name)\n",
    "\n",
    "#Printing\n",
    "print(first_Name)\n"
   ]
  },
  {
   "cell_type": "code",
   "execution_count": null,
   "metadata": {},
   "outputs": [],
   "source": []
  }
 ],
 "metadata": {
  "kernelspec": {
   "display_name": "Python 3",
   "language": "python",
   "name": "python3"
  },
  "language_info": {
   "codemirror_mode": {
    "name": "ipython",
    "version": 3
   },
   "file_extension": ".py",
   "mimetype": "text/x-python",
   "name": "python",
   "nbconvert_exporter": "python",
   "pygments_lexer": "ipython3",
   "version": "3.7.4"
  }
 },
 "nbformat": 4,
 "nbformat_minor": 2
}
