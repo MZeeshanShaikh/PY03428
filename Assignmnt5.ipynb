{
 "cells": [
  {
   "cell_type": "code",
   "execution_count": 1,
   "metadata": {},
   "outputs": [
    {
     "name": "stdout",
     "output_type": "stream",
     "text": [
      "Enter Word :Alli\n",
      "Lower Case : 3\n",
      "Upper Case : 1\n"
     ]
    }
   ],
   "source": [
    "string =input(\"Enter Word :\" )\n",
    "\n",
    "lower = 0\n",
    "upper = 0\n",
    "\n",
    "for i in string :\n",
    "    if (i.islower())== True:\n",
    "        lower = lower + 1\n",
    "    elif (i.isupper())== True:\n",
    "        upper = upper + 1\n",
    "print('Lower Case :',lower)\n",
    "print('Upper Case :',upper)\n"
   ]
  },
  {
   "cell_type": "code",
   "execution_count": 2,
   "metadata": {},
   "outputs": [
    {
     "name": "stdout",
     "output_type": "stream",
     "text": [
      "2\n",
      "54\n",
      "78\n",
      "56\n",
      "24\n"
     ]
    }
   ],
   "source": [
    "randomList = [2, 3, 23, 54, 45, 23, 78, 56, 99, 24]\n",
    "def isEven():\n",
    "   for element in randomList:\n",
    "       if element % 2 == 0:\n",
    "          print(element)\n",
    "isEven()\n"
   ]
  },
  {
   "cell_type": "code",
   "execution_count": 3,
   "metadata": {},
   "outputs": [
    {
     "name": "stdout",
     "output_type": "stream",
     "text": [
      "Enter Number For Factorial :24\n",
      "620448401733239439360000\n"
     ]
    }
   ],
   "source": [
    "def factorial(a):\n",
    "    if a==1:\n",
    "        return a\n",
    "    return a * factorial(a-1)\n",
    "\n",
    "n= int(input(\"Enter Number For Factorial :\"))\n",
    "print(factorial(n))\n"
   ]
  },
  {
   "cell_type": "code",
   "execution_count": 5,
   "metadata": {},
   "outputs": [
    {
     "name": "stdout",
     "output_type": "stream",
     "text": [
      "Do you want to check Words for Palindrome please type y :y\n",
      "Enter Word For Check :Hello\n",
      "No it's Not Palindrome\n",
      "Thanks For Chosing My App\n"
     ]
    }
   ],
   "source": [
    "def isPalindrome(s): \n",
    "\trev = ''.join(reversed(s)) \n",
    "\tif (s == rev): \n",
    "\t\treturn True\n",
    "\treturn False\n",
    "while True:\n",
    "  \n",
    "   z=input(\"Do you want to check Words for Palindrome please type y :\")\n",
    "   if z=='y' or z=='Y' :\n",
    "      s = input(\"Enter Word For Check :\")\n",
    "      ans = isPalindrome(s) \n",
    "      if (ans): \n",
    "               print(\"Yes it's Palindrome\") \n",
    "      else: \n",
    "\t       print(\"No it's Not Palindrome\") \n",
    "   print(\"Thanks For Chosing My App\")\n",
    "   break\n"
   ]
  },
  {
   "cell_type": "code",
   "execution_count": 6,
   "metadata": {},
   "outputs": [
    {
     "name": "stdout",
     "output_type": "stream",
     "text": [
      "Do you want to check number for prime please type y :y\n",
      "Enter Number For Cheking :55\n",
      "False\n"
     ]
    }
   ],
   "source": [
    "from math import sqrt\n",
    "\n",
    "def is_prime(n):\n",
    "    if n < 2:\n",
    "        return False\n",
    "    if n == 2:\n",
    "        return True\n",
    "    limit = sqrt(n)\n",
    "    i = 2\n",
    "    while i <= limit:\n",
    "        if n % i == 0 :\n",
    "            return False\n",
    "        i += 1\n",
    "    return True\n",
    "while True :   \n",
    "   z=input(\"Do you want to check number for prime please type y :\")\n",
    "   if z=='y' or z=='Y' :\n",
    "      num = int(input(\"Enter Number For Cheking :\"))\n",
    "      print(is_prime(num))\n",
    "   else :\n",
    "      print(\"Thanks For Using programe\")\n",
    "   break\n"
   ]
  },
  {
   "cell_type": "code",
   "execution_count": 7,
   "metadata": {},
   "outputs": [
    {
     "name": "stdout",
     "output_type": "stream",
     "text": [
      "List Of Shoping\n",
      "Enter 'DONE' to stop adding items\n",
      "Insert Items> Tomato\n",
      "Insert Items> Bnana\n",
      "Insert Items> Orange\n",
      "Insert Items> done\n",
      "Your Shoping list:\n",
      "Tomato\n",
      "Bnana\n",
      "Orange\n"
     ]
    }
   ],
   "source": [
    "shopping_list = []\n",
    "print(\"List Of Shoping\")\n",
    "print(\"Enter 'DONE' to stop adding items\")\n",
    "\n",
    "\n",
    "def S_list() :\n",
    "\n",
    "   while True:\n",
    "        new_item = input(\"Insert Items> \")\n",
    "        if new_item == 'DONE' or new_item=='done':\n",
    "           break\n",
    "        shopping_list.append(new_item)\n",
    "   print(\"Your Shoping list:\")\n",
    "   for item in shopping_list:\n",
    "       print(item)\n",
    "S_list()\n"
   ]
  },
  {
   "cell_type": "code",
   "execution_count": null,
   "metadata": {},
   "outputs": [],
   "source": []
  }
 ],
 "metadata": {
  "kernelspec": {
   "display_name": "Python 3",
   "language": "python",
   "name": "python3"
  },
  "language_info": {
   "codemirror_mode": {
    "name": "ipython",
    "version": 3
   },
   "file_extension": ".py",
   "mimetype": "text/x-python",
   "name": "python",
   "nbconvert_exporter": "python",
   "pygments_lexer": "ipython3",
   "version": "3.7.4"
  }
 },
 "nbformat": 4,
 "nbformat_minor": 2
}
