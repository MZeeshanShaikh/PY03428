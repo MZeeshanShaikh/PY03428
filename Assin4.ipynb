{
 "cells": [
  {
   "cell_type": "code",
   "execution_count": 5,
   "metadata": {},
   "outputs": [
    {
     "name": "stdout",
     "output_type": "stream",
     "text": [
      "Alice in Wonder Land\n"
     ]
    }
   ],
   "source": [
    "def favorit_book(title) :\n",
    "     \n",
    "     print(title)\n",
    "\n",
    "favorit_book(\"Alice in Wonder Land\")"
   ]
  },
  {
   "cell_type": "code",
   "execution_count": 4,
   "metadata": {},
   "outputs": [
    {
     "name": "stdout",
     "output_type": "stream",
     "text": [
      "Do you want  ticket type  for continue :y\n",
      "Enter yor Age: -55\n",
      "Your ticket is of 15$\n",
      "Do you want  ticket type  for continue :n\n"
     ]
    }
   ],
   "source": [
    "while True:\n",
    " cont=input(\"Do you want  ticket type Y for continue :\" )\n",
    " if cont==\"n\" or cont==\"N\":\n",
    "  break\n",
    " else: \n",
    "    age=int(input(\"Enter yor Age: -\"))\n",
    "    if age <= 3 :\n",
    "       print(\"Your Ticket is Free of cost\")\n",
    "    elif age==4 or age<=12 :\n",
    "       print(\"Your ticket is of 10$\")\n",
    "    else:\n",
    "       print(\"Your ticket is of 15$\")\n"
   ]
  },
  {
   "cell_type": "code",
   "execution_count": 6,
   "metadata": {},
   "outputs": [
    {
     "name": "stdout",
     "output_type": "stream",
     "text": [
      "{'S_No.': 1, 'first_name': 'Farhan', 'last_name': 'Shah', 'city': 'Hyderabad', 'age': '30'}\n",
      "After Update {'S_No.': 1, 'first_name': 'Farhan', 'last_name': 'Shah', 'city': 'Hyderabad', 'age': '30', 'Qualif': 'MA'}\n",
      "After Removing Qulification{'S_No.': 1, 'first_name': 'Farhan', 'last_name': 'Shah', 'city': 'Hyderabad', 'age': '30'}\n"
     ]
    }
   ],
   "source": [
    "colegue={\n",
    "        \"S_No.\" : 1,\n",
    "        \"first_name\": \"Farhan\",\n",
    "        \"last_name\":\"Shah\",\n",
    "        \"city\":\"Hyderabad\",\n",
    "        \"age\":\"30\"\n",
    "        }\n",
    "\n",
    "\n",
    "print(colegue)\n",
    "colegue.update({'Qualif':'MA'})#adding Qualification\n",
    "print(\"After Update \"+str(colegue))\n",
    "colegue.pop('Qualif')#Removing Qualification\n",
    "print(\"After Removing Qulification\"+str(colegue))\n"
   ]
  },
  {
   "cell_type": "code",
   "execution_count": 7,
   "metadata": {},
   "outputs": [
    {
     "name": "stdout",
     "output_type": "stream",
     "text": [
      "karachi {'country': 'Pakistan', 'Population': '10 Million', 'fact': 'Quade Azam Burried In Karachi'}\n",
      "lahore {'country': 'Pakistan', 'Population': '5 million', 'fact': 'One Of Oldest City In Pakistan'}\n",
      "Hyderabad {'country': 'Pakistan', 'Population': '5734601', 'fact': 'Founded In 1768 by Mia Ghulam Shah Kalhoro'}\n"
     ]
    }
   ],
   "source": [
    "city = {\"karachi\":{\"country\":\"Pakistan\",\"Population\":\"10 Million\",\"fact\":\"Quade Azam Burried In Karachi\"},\n",
    "        \"lahore\":{\"country\":\"Pakistan\",\"Population\":\"5 million\",'fact':\"One Of Oldest City In Pakistan\"},\n",
    "       \"Hyderabad\":{\"country\":\"Pakistan\",\"Population\":\"5734601\",\"fact\":\"Founded In 1768 by Mia Ghulam Shah Kalhoro\"}}\n",
    "for x,y in city.items():\n",
    "    print(x,y)\n"
   ]
  },
  {
   "cell_type": "code",
   "execution_count": 8,
   "metadata": {},
   "outputs": [
    {
     "name": "stdout",
     "output_type": "stream",
     "text": [
      "Lets Play Game Guess the Number between 1 and 50.\n",
      "Guess.\n",
      "333\n",
      "No Number is high.\n",
      "Guess.\n",
      "33\n",
      "No Number is high.\n",
      "Guess.\n",
      "4\n",
      "NO Number is too low.\n",
      "You Lose Number Is 8\n"
     ]
    }
   ],
   "source": [
    "# This is a guess the number game.\n",
    "import random\n",
    "secretNumber = random.randint(1, 50)\n",
    "print('Lets Play Game Guess the Number between 1 and 50.')\n",
    "\n",
    "# Ask the player to guess 3 times.\n",
    "for guessesTaken in range(1, 4):\n",
    "    print('Guess.')\n",
    "    guess = int(input())\n",
    "\n",
    "    if guess < secretNumber:\n",
    "        print('NO Number is too low.')\n",
    "    elif guess > secretNumber:\n",
    "        print('No Number is high.')\n",
    "    else:\n",
    "        break \n",
    "\n",
    "if guess == secretNumber:\n",
    "    print('You Win number is ' + str(guessesTaken) + ' guesses!')\n",
    "else:\n",
    "    print('You Lose Number Is ' + str(secretNumber))\n"
   ]
  },
  {
   "cell_type": "code",
   "execution_count": null,
   "metadata": {},
   "outputs": [],
   "source": []
  }
 ],
 "metadata": {
  "kernelspec": {
   "display_name": "Python 3",
   "language": "python",
   "name": "python3"
  },
  "language_info": {
   "codemirror_mode": {
    "name": "ipython",
    "version": 3
   },
   "file_extension": ".py",
   "mimetype": "text/x-python",
   "name": "python",
   "nbconvert_exporter": "python",
   "pygments_lexer": "ipython3",
   "version": "3.7.4"
  }
 },
 "nbformat": 4,
 "nbformat_minor": 2
}
