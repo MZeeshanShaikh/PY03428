{
 "cells": [
  {
   "cell_type": "code",
   "execution_count": 1,
   "metadata": {},
   "outputs": [
    {
     "data": {
      "text/plain": [
       "'\\n(OOP) is a way of writing computer programs which is using the idea of \"objects\" to represent data and methods. \\nUsually, computer programs were just a list of instructions to the computer, \\ntelling the computer to do certain things in a certain way, which is called procedural programming.\\n'"
      ]
     },
     "execution_count": 1,
     "metadata": {},
     "output_type": "execute_result"
    }
   ],
   "source": [
    "'''\n",
    "(OOP) is a way of writing computer programs which is using the idea of \"objects\" to represent data and methods. \n",
    "Usually, computer programs were just a list of instructions to the computer, \n",
    "telling the computer to do certain things in a certain way, which is called procedural programming.\n",
    "'''\n",
    "\n"
   ]
  },
  {
   "cell_type": "code",
   "execution_count": 2,
   "metadata": {},
   "outputs": [
    {
     "data": {
      "text/plain": [
       "'\\nBenefits of oops include reusability of code,maintainabilty of code, portability, extensibility etc. \\nOops involve features like encapsulation,data hiding,abstraction,polymorphism,modularity etc. \\nAll of these features differentiates OOPS from procedural programming.\\n'"
      ]
     },
     "execution_count": 2,
     "metadata": {},
     "output_type": "execute_result"
    }
   ],
   "source": [
    "'''\n",
    "Benefits of oops include reusability of code,maintainabilty of code, portability, extensibility etc. \n",
    "Oops involve features like encapsulation,data hiding,abstraction,polymorphism,modularity etc. \n",
    "All of these features differentiates OOPS from procedural programming.\n",
    "'''\n"
   ]
  },
  {
   "cell_type": "code",
   "execution_count": 3,
   "metadata": {},
   "outputs": [
    {
     "data": {
      "text/plain": [
       "'\\nA function is a piece of code that is called by name. It can be passed data to operate on (i.e. the parameters) and can optionally return data (the return value). All data that is passed to a function is explicitly passed.\\nA method is a piece of code that is called by a name that is associated with an object. In most respects it is identical to a function except for two key differences:\\nA method is implicitly passed the object on which it was called.\\nA method is able to operate on data that is contained within the class (remembering that an object is an instance of a class - the class is the definition, the object is an instance of that data).\\n'"
      ]
     },
     "execution_count": 3,
     "metadata": {},
     "output_type": "execute_result"
    }
   ],
   "source": [
    "'''\n",
    "A function is a piece of code that is called by name. It can be passed data to operate on (i.e. the parameters) and can optionally return data (the return value). All data that is passed to a function is explicitly passed.\n",
    "A method is a piece of code that is called by a name that is associated with an object. In most respects it is identical to a function except for two key differences:\n",
    "A method is implicitly passed the object on which it was called.\n",
    "A method is able to operate on data that is contained within the class (remembering that an object is an instance of a class - the class is the definition, the object is an instance of that data).\n",
    "'''\n"
   ]
  },
  {
   "cell_type": "code",
   "execution_count": 4,
   "metadata": {},
   "outputs": [
    {
     "data": {
      "text/plain": [
       "'\\nAn object is nothing but a self-contained component which consists of methods and properties to make a particular type of data useful.\\nObject determines the behavior of the class. \\nWhen you send a message to an object, you are asking the object to invoke or execute one of its methods.\\n'"
      ]
     },
     "execution_count": 4,
     "metadata": {},
     "output_type": "execute_result"
    }
   ],
   "source": [
    "'''\n",
    " a class is a template definition of the method s and variable s in a particular kind of object . \n",
    " Thus, an object is a specific instance of a class; it contains real values instead of variables.\n",
    " '''\n",
    "'''\n",
    "An object is nothing but a self-contained component which consists of methods and properties to make a particular type of data useful.\n",
    "Object determines the behavior of the class. \n",
    "When you send a message to an object, you are asking the object to invoke or execute one of its methods.\n",
    "'''\n",
    "'''\n",
    "An Attribute is a named property of a class. It has a type. It describes the range of values that that property may hold.\n",
    "'''\n"
   ]
  },
  {
   "cell_type": "code",
   "execution_count": 5,
   "metadata": {},
   "outputs": [
    {
     "ename": "NameError",
     "evalue": "name 'name' is not defined",
     "output_type": "error",
     "traceback": [
      "\u001b[1;31m---------------------------------------------------------------------------\u001b[0m",
      "\u001b[1;31mNameError\u001b[0m                                 Traceback (most recent call last)",
      "\u001b[1;32m<ipython-input-5-1c65c5410710>\u001b[0m in \u001b[0;36m<module>\u001b[1;34m\u001b[0m\n\u001b[0;32m     11\u001b[0m \u001b[1;33m\u001b[0m\u001b[0m\n\u001b[0;32m     12\u001b[0m \u001b[1;31m# Instantiate the Dog object\u001b[0m\u001b[1;33m\u001b[0m\u001b[1;33m\u001b[0m\u001b[1;33m\u001b[0m\u001b[0m\n\u001b[1;32m---> 13\u001b[1;33m \u001b[0mmehran\u001b[0m \u001b[1;33m=\u001b[0m \u001b[0mCar\u001b[0m\u001b[1;33m(\u001b[0m\u001b[1;34m\"Suzuki\"\u001b[0m\u001b[1;33m,\u001b[0m \u001b[1;36m2006\u001b[0m\u001b[1;33m)\u001b[0m\u001b[1;33m\u001b[0m\u001b[1;33m\u001b[0m\u001b[0m\n\u001b[0m\u001b[0;32m     14\u001b[0m \u001b[1;33m\u001b[0m\u001b[0m\n\u001b[0;32m     15\u001b[0m \u001b[1;31m# Access the instance attributes\u001b[0m\u001b[1;33m\u001b[0m\u001b[1;33m\u001b[0m\u001b[1;33m\u001b[0m\u001b[0m\n",
      "\u001b[1;32m<ipython-input-5-1c65c5410710>\u001b[0m in \u001b[0;36m__init__\u001b[1;34m(self, comp, year)\u001b[0m\n\u001b[0;32m      6\u001b[0m     \u001b[1;31m# Initializer / Instance Attributes\u001b[0m\u001b[1;33m\u001b[0m\u001b[1;33m\u001b[0m\u001b[1;33m\u001b[0m\u001b[0m\n\u001b[0;32m      7\u001b[0m     \u001b[1;32mdef\u001b[0m \u001b[0m__init__\u001b[0m\u001b[1;33m(\u001b[0m\u001b[0mself\u001b[0m\u001b[1;33m,\u001b[0m \u001b[0mcomp\u001b[0m\u001b[1;33m,\u001b[0m \u001b[0myear\u001b[0m\u001b[1;33m)\u001b[0m\u001b[1;33m:\u001b[0m\u001b[1;33m\u001b[0m\u001b[1;33m\u001b[0m\u001b[0m\n\u001b[1;32m----> 8\u001b[1;33m         \u001b[0mself\u001b[0m\u001b[1;33m.\u001b[0m\u001b[0mcomp\u001b[0m \u001b[1;33m=\u001b[0m \u001b[0mname\u001b[0m\u001b[1;33m\u001b[0m\u001b[1;33m\u001b[0m\u001b[0m\n\u001b[0m\u001b[0;32m      9\u001b[0m         \u001b[0mself\u001b[0m\u001b[1;33m.\u001b[0m\u001b[0myear\u001b[0m \u001b[1;33m=\u001b[0m \u001b[0myear\u001b[0m\u001b[1;33m\u001b[0m\u001b[1;33m\u001b[0m\u001b[0m\n\u001b[0;32m     10\u001b[0m \u001b[1;33m\u001b[0m\u001b[0m\n",
      "\u001b[1;31mNameError\u001b[0m: name 'name' is not defined"
     ]
    }
   ],
   "source": [
    "class Car:\n",
    "\n",
    "\n",
    "    model = '2006'\n",
    "\n",
    "\n",
    "    def __init__(self, comp, year):\n",
    "        self.comp = name\n",
    "        self.year = year\n",
    "\n",
    "\n",
    "\n",
    "mehran = Car(\"Suzuki\", 2006)\n",
    "\n",
    "\n",
    "print(\"{} is {} and {} is {}.\".format(\n",
    "    mehran.comp, mehran.year, ))\n",
    "\n",
    "\n",
    "if mehran.model == \"2006\":\n",
    "    print(\"{0} is a {1}!\".format(mehran.comp, mehran.year))\n",
    "\n",
    "\n",
    "\n",
    "\n"
   ]
  },
  {
   "cell_type": "code",
   "execution_count": null,
   "metadata": {},
   "outputs": [],
   "source": []
  }
 ],
 "metadata": {
  "kernelspec": {
   "display_name": "Python 3",
   "language": "python",
   "name": "python3"
  },
  "language_info": {
   "codemirror_mode": {
    "name": "ipython",
    "version": 3
   },
   "file_extension": ".py",
   "mimetype": "text/x-python",
   "name": "python",
   "nbconvert_exporter": "python",
   "pygments_lexer": "ipython3",
   "version": "3.7.4"
  }
 },
 "nbformat": 4,
 "nbformat_minor": 2
}
